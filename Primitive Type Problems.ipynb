{
 "cells": [
  {
   "cell_type": "markdown",
   "metadata": {},
   "source": [
    "Computing the Parity of a Word\n",
    "- The parity of a binary word is 1 if the number of 1's in the word is odd, otherwise 0.\n",
    "\n",
    "How to compute the parity of a very large number of 64-bit words?\n"
   ]
  },
  {
   "cell_type": "code",
   "execution_count": 8,
   "metadata": {},
   "outputs": [],
   "source": [
    "def parity_bits(x):\n",
    "    ''' Computes the parity of words based on their bits'''\n",
    "    result = 0\n",
    "    while x:\n",
    "        result^=1\n",
    "        x &= x - 1 ##drops the lowest SET bit of x\n",
    "    return result\n"
   ]
  },
  {
   "cell_type": "code",
   "execution_count": 14,
   "metadata": {},
   "outputs": [
    {
     "name": "stdout",
     "output_type": "stream",
     "text": [
      "Input: 866, Parity: 1, Binary 1101100010\n",
      "Input: 637, Parity: 1, Binary 1001111101\n",
      "Input: 395, Parity: 1, Binary 110001011\n",
      "Input: 946, Parity: 0, Binary 1110110010\n",
      "Input: 818, Parity: 1, Binary 1100110010\n",
      "Input: 97, Parity: 1, Binary 1100001\n",
      "Input: 75, Parity: 0, Binary 1001011\n",
      "Input: 813, Parity: 0, Binary 1100101101\n",
      "Input: 641, Parity: 1, Binary 1010000001\n",
      "Input: 400, Parity: 1, Binary 110010000\n"
     ]
    }
   ],
   "source": [
    "import random\n",
    "import math\n",
    "for i in range(10):\n",
    "    test_int = math.floor(random.random()*1000)\n",
    "    parity_int = parity_bits(test_int)\n",
    "    print(\"Input: {}, Parity: {}\".format(test_int, parity_int) + \", Binary {0:b}\".format(test_int)) "
   ]
  },
  {
   "cell_type": "code",
   "execution_count": null,
   "metadata": {},
   "outputs": [],
   "source": [
    " "
   ]
  }
 ],
 "metadata": {
  "kernelspec": {
   "display_name": "Python 3",
   "language": "python",
   "name": "python3"
  },
  "language_info": {
   "codemirror_mode": {
    "name": "ipython",
    "version": 3
   },
   "file_extension": ".py",
   "mimetype": "text/x-python",
   "name": "python",
   "nbconvert_exporter": "python",
   "pygments_lexer": "ipython3",
   "version": "3.8.5"
  }
 },
 "nbformat": 4,
 "nbformat_minor": 4
}
